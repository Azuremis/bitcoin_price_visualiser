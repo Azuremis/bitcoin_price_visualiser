{
 "cells": [
  {
   "cell_type": "markdown",
   "metadata": {},
   "source": [
    "# Bitcoin price visualiser"
   ]
  },
  {
   "cell_type": "code",
   "execution_count": null,
   "metadata": {},
   "outputs": [],
   "source": [
    "import os\n",
    "import quandl\n",
    "import pickle\n",
    "import plotly\n",
    "import numpy as pd\n",
    "import pandas as pd\n",
    "\n",
    "import config\n",
    "\n",
    "import plotly.offline as py # offline version of plotly \n",
    "import plotly.graph_objs as go  # plotly graphical object\n",
    "py.init_notebook_mode(connected=True)"
   ]
  },
  {
   "cell_type": "code",
   "execution_count": null,
   "metadata": {},
   "outputs": [],
   "source": [
    "quandl.ApiConfig.api_key = config.key"
   ]
  },
  {
   "cell_type": "markdown",
   "metadata": {},
   "source": [
    "## Cache bitcoin data"
   ]
  },
  {
   "cell_type": "code",
   "execution_count": null,
   "metadata": {},
   "outputs": [],
   "source": [
    "def get_quandl_data(quandl_code):\n",
    "    \"\"\"\n",
    "    Provide price data for given quandl_code via caching mechanism \n",
    "    \"\"\"\n",
    "    cache_path = \"{}.pkl\".format(quandl_code).replace(\"/\", \"-\")\n",
    "    \n",
    "    # load price data if it exists\n",
    "    try:\n",
    "        file = open(cache_path, \"rb\")\n",
    "        df = pickle.load(file)\n",
    "        print(f\"Loaded {quandl_code} data from cache\")\n",
    "    # othewise cache the data\n",
    "    except (OSError, IOError):\n",
    "        df = quandl.get(quandl_code, returns=\"pandas\")\n",
    "        df.to_pickle(cache_path)\n",
    "        print(f\"Cached {quandl_code} data to {cache_path}\")\n",
    "    return df"
   ]
  },
  {
   "cell_type": "code",
   "execution_count": null,
   "metadata": {},
   "outputs": [],
   "source": [
    "btc_usd_kraken = get_quandl_data(\"BCHARTS/KRAKENUSD\")"
   ]
  },
  {
   "cell_type": "code",
   "execution_count": null,
   "metadata": {},
   "outputs": [],
   "source": [
    "btc_usd_kraken.head()"
   ]
  },
  {
   "cell_type": "code",
   "execution_count": null,
   "metadata": {},
   "outputs": [],
   "source": [
    "# setting up traces for plotting\n",
    "btc_trace = go.Scatter(x=btc_usd_kraken.index, y=btc_usd_kraken[\"Weighted Price\"])\n",
    "btc_trace"
   ]
  },
  {
   "cell_type": "markdown",
   "metadata": {},
   "source": [
    "Trace has been setup correctly so we can proceed to plotting the data"
   ]
  },
  {
   "cell_type": "code",
   "execution_count": null,
   "metadata": {},
   "outputs": [],
   "source": [
    "py.iplot([btc_trace])"
   ]
  },
  {
   "cell_type": "markdown",
   "metadata": {},
   "source": [
    "The plot shows that there are days where the bitcoin price data is zero even though this has not occurred in the actual price history. Hence, data from other exchanges will need to be aggregated for more realistic price history."
   ]
  },
  {
   "cell_type": "code",
   "execution_count": null,
   "metadata": {},
   "outputs": [],
   "source": [
    "btc_usd_kraken = get_quandl_data(\"BCHARTS/KRAKENUSD\")"
   ]
  },
  {
   "cell_type": "markdown",
   "metadata": {},
   "source": [
    "## Get data from multiple exchanges"
   ]
  },
  {
   "cell_type": "code",
   "execution_count": null,
   "metadata": {},
   "outputs": [],
   "source": [
    "# popular exchanges\n",
    "exchanges = [\"COINBASE\", \"OKCOIN\", \"BITSTAMP\", \"KRAKEN\", \"BITFINEX\", \"ITBIT\"]\n",
    "\n",
    "# collate exchange data\n",
    "exchange_data = {}\n",
    "\n",
    "for exchange in exchanges:\n",
    "    exchange_code = f\"BCHARTS/{exchange}USD\"\n",
    "    exchange_data[exchange] = get_quandl_data(exchange_code)"
   ]
  },
  {
   "cell_type": "code",
   "execution_count": null,
   "metadata": {},
   "outputs": [],
   "source": [
    "def merge_datafs(dataframes, labels, col):\n",
    "    \"\"\"\n",
    "    Make dataframe which includes specified data from each exchanges dataframe\n",
    "    \"\"\"\n",
    "    series_dict = {}\n",
    "    \n",
    "    # extract given col from each exchange dataframe\n",
    "    for index in range(len(labels)):\n",
    "        series_dict[labels[index]] = dataframes[index][col]\n",
    "    return pd.DataFrame(series_dict)"
   ]
  },
  {
   "cell_type": "code",
   "execution_count": null,
   "metadata": {},
   "outputs": [],
   "source": [
    "btc_usd_df = merge_datafs(list(exchange_data.values()), list(exchange_data.keys()), \"Weighted Price\")"
   ]
  },
  {
   "cell_type": "markdown",
   "metadata": {},
   "source": [
    "Most exchanges don't have data for the genesis of bitcoin"
   ]
  },
  {
   "cell_type": "code",
   "execution_count": null,
   "metadata": {},
   "outputs": [],
   "source": [
    "btc_usd_df.head()"
   ]
  },
  {
   "cell_type": "markdown",
   "metadata": {},
   "source": [
    "But we do have more receent information so we'll take the average of the prices from each exchange which has prices"
   ]
  },
  {
   "cell_type": "code",
   "execution_count": null,
   "metadata": {},
   "outputs": [],
   "source": [
    "btc_usd_df.tail()"
   ]
  },
  {
   "cell_type": "markdown",
   "metadata": {},
   "source": [
    "## Visualise aggregate btc price data"
   ]
  },
  {
   "cell_type": "code",
   "execution_count": null,
   "metadata": {},
   "outputs": [],
   "source": [
    "layout = go.Layout(\n",
    "        title=\"Bitcoin price by exchange\",\n",
    "        legend={\"orientation\":\"h\"},\n",
    "        xaxis={\"type\":\"date\"},\n",
    "        yaxis={\"title\":\"price ($)\"})\n",
    "\n",
    "# setting up traces for plotting\n",
    "trace_arr = []\n",
    "labels = list(btc_usd_df)\n",
    "\n",
    "for _, label in enumerate(labels):\n",
    "    series = btc_usd_df[label]\n",
    "    trace = go.Scatter(x=series.index, y=series, name=label)\n",
    "    trace_arr.append(trace)\n",
    "    \n",
    "fig = go.Figure(data=trace_arr, layout=layout)\n",
    "py.iplot(fig)"
   ]
  },
  {
   "cell_type": "markdown",
   "metadata": {},
   "source": [
    "Average the data to address price discontinuities across exchanges"
   ]
  },
  {
   "cell_type": "code",
   "execution_count": null,
   "metadata": {},
   "outputs": [],
   "source": [
    "btc_usd_df[\"Average Weighted Price\"] = btc_usd_df.mean(axis=1)"
   ]
  },
  {
   "cell_type": "code",
   "execution_count": null,
   "metadata": {},
   "outputs": [],
   "source": [
    "btc_mean_trace = go.Scatter(x=btc_usd_df.index, \n",
    "                            y=btc_usd_df[\"Average Weighted Price\"], name=\"Average Price\")\n",
    "py.iplot([btc_mean_trace])"
   ]
  },
  {
   "cell_type": "code",
   "execution_count": null,
   "metadata": {},
   "outputs": [],
   "source": []
  }
 ],
 "metadata": {
  "kernelspec": {
   "display_name": "Python 3",
   "language": "python",
   "name": "python3"
  },
  "language_info": {
   "codemirror_mode": {
    "name": "ipython",
    "version": 3
   },
   "file_extension": ".py",
   "mimetype": "text/x-python",
   "name": "python",
   "nbconvert_exporter": "python",
   "pygments_lexer": "ipython3",
   "version": "3.8.5"
  }
 },
 "nbformat": 4,
 "nbformat_minor": 4
}
